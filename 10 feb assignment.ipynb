{
 "cells": [
  {
   "cell_type": "markdown",
   "id": "ad7f3227-5e16-4311-8f4b-fba5f6f1cc0d",
   "metadata": {},
   "source": [
    "# Q3 ANSWER\n"
   ]
  },
  {
   "cell_type": "code",
   "execution_count": 1,
   "id": "a86f7217-8c7d-4d43-a8d5-17250733bbac",
   "metadata": {},
   "outputs": [],
   "source": [
    "task = open(\"assign_text.txt\",\"w\")"
   ]
  },
  {
   "cell_type": "code",
   "execution_count": 2,
   "id": "6fd233d6-147a-41c3-8a25-d1b7c80b61ad",
   "metadata": {},
   "outputs": [
    {
     "data": {
      "text/plain": [
       "'/home/jovyan/Assignment '"
      ]
     },
     "execution_count": 2,
     "metadata": {},
     "output_type": "execute_result"
    }
   ],
   "source": [
    "pwd"
   ]
  },
  {
   "cell_type": "code",
   "execution_count": 3,
   "id": "2ed9f88b-e38a-44a0-8e43-019b7a4218d2",
   "metadata": {},
   "outputs": [
    {
     "data": {
      "text/plain": [
       "33"
      ]
     },
     "execution_count": 3,
     "metadata": {},
     "output_type": "execute_result"
    }
   ],
   "source": [
    "task.write(\"I want to became a Data Scientist\")"
   ]
  },
  {
   "cell_type": "code",
   "execution_count": 4,
   "id": "87d40277-b68f-41a5-add2-b2af6fa487fc",
   "metadata": {},
   "outputs": [],
   "source": [
    "##close function is used\n",
    "task.close()"
   ]
  },
  {
   "cell_type": "code",
   "execution_count": 6,
   "id": "5942ceb5-3609-47f8-9c95-6df340132959",
   "metadata": {},
   "outputs": [],
   "source": [
    "##file open and r is used for read\n",
    "pw=open(\"assign_text.txt\",\"r\")"
   ]
  },
  {
   "cell_type": "code",
   "execution_count": 7,
   "id": "8038736d-778e-45cc-83f0-637f0d67789c",
   "metadata": {},
   "outputs": [
    {
     "data": {
      "text/plain": [
       "'I want to became a Data Scientist'"
      ]
     },
     "execution_count": 7,
     "metadata": {},
     "output_type": "execute_result"
    }
   ],
   "source": [
    "pw.read()"
   ]
  },
  {
   "cell_type": "markdown",
   "id": "c2559658-180d-4117-a44f-0c140f6bc9e1",
   "metadata": {},
   "source": [
    "# Q4 ANSWER"
   ]
  },
  {
   "cell_type": "code",
   "execution_count": 9,
   "id": "10280e12-d74e-4d2d-8acf-ae10cb57eda1",
   "metadata": {},
   "outputs": [],
   "source": [
    "read= open(\"text.txt\",\"w\")"
   ]
  },
  {
   "cell_type": "code",
   "execution_count": 10,
   "id": "6f462d84-ad62-4af7-a6e0-fffec480df25",
   "metadata": {},
   "outputs": [
    {
     "data": {
      "text/plain": [
       "'/home/jovyan/Assignment '"
      ]
     },
     "execution_count": 10,
     "metadata": {},
     "output_type": "execute_result"
    }
   ],
   "source": [
    "pwd"
   ]
  },
  {
   "cell_type": "code",
   "execution_count": 11,
   "id": "490fa067-b422-4b48-a30c-5f5f137c00fe",
   "metadata": {},
   "outputs": [
    {
     "data": {
      "text/plain": [
       "110"
      ]
     },
     "execution_count": 11,
     "metadata": {},
     "output_type": "execute_result"
    }
   ],
   "source": [
    "read.write(\"a dharathi mere maa hai,mai kisi bhi kimat per dushman ke hawale nahi karung,chahe mere jaan be na chala jaaye\")"
   ]
  },
  {
   "cell_type": "code",
   "execution_count": 12,
   "id": "b7930c7a-154a-4323-a394-98d470cdf1a5",
   "metadata": {},
   "outputs": [],
   "source": [
    "read.close()"
   ]
  },
  {
   "cell_type": "code",
   "execution_count": 13,
   "id": "9fdecab9-21c2-4913-b689-d596edb282e4",
   "metadata": {},
   "outputs": [],
   "source": [
    "answer=open(\"text.txt\",\"r\")"
   ]
  },
  {
   "cell_type": "code",
   "execution_count": 15,
   "id": "22a76cc9-eb0f-4a3d-a649-8e044565037d",
   "metadata": {},
   "outputs": [
    {
     "data": {
      "text/plain": [
       "'a dharathi mere maa hai,mai kisi bhi kimat per dushman ke hawale nahi karung,chahe mere jaan be na chala jaaye'"
      ]
     },
     "execution_count": 15,
     "metadata": {},
     "output_type": "execute_result"
    }
   ],
   "source": [
    "##read(n)\n",
    "##a.read()\n",
    "##Reads and returns a string of n characters, or the entire file as a single string if n is not provided.\n",
    "answer.read()"
   ]
  },
  {
   "cell_type": "code",
   "execution_count": 22,
   "id": "78f09eb3-1d39-4b8f-af3a-fb3d1edb89ff",
   "metadata": {},
   "outputs": [],
   "source": [
    "answer=open(\"text.txt\",\"r\")"
   ]
  },
  {
   "cell_type": "code",
   "execution_count": 23,
   "id": "458231b4-80d1-4a45-bf0f-4d888910504e",
   "metadata": {},
   "outputs": [
    {
     "data": {
      "text/plain": [
       "'a dharathi'"
      ]
     },
     "execution_count": 23,
     "metadata": {},
     "output_type": "execute_result"
    }
   ],
   "source": [
    "##readline(n)\n",
    "##a.readline()\n",
    "##Returns the next line of the file with all text up to and including the newline character. \n",
    "##If n is provided as a parameter than only n characters will be returned if the line is longer than n\n",
    "\n",
    "answer.readline(10)\n"
   ]
  },
  {
   "cell_type": "code",
   "execution_count": 24,
   "id": "bc82ff0d-eaee-4b52-8dc5-4bdd9c7b1917",
   "metadata": {},
   "outputs": [],
   "source": [
    "answer=open(\"text.txt\",\"r\")"
   ]
  },
  {
   "cell_type": "code",
   "execution_count": 25,
   "id": "930d7876-5427-4dfd-a420-46995ef6523f",
   "metadata": {},
   "outputs": [
    {
     "data": {
      "text/plain": [
       "['a dharathi mere maa hai,mai kisi bhi kimat per dushman ke hawale nahi karung,chahe mere jaan be na chala jaaye']"
      ]
     },
     "execution_count": 25,
     "metadata": {},
     "output_type": "execute_result"
    }
   ],
   "source": [
    "##readlines(n)\n",
    "##a.readline\n",
    "\n",
    "\n",
    "##Returns a list of strings, each representing a single line of the file. If n is not provided then all lines of the file are returned.\n",
    "#ifn is provided then n characters are read but n is rounded up so that an entire line is returned.\n",
    "\n",
    "answer.readlines(10)"
   ]
  },
  {
   "cell_type": "markdown",
   "id": "b9ed34a1-e5cc-468a-a797-4de2be59b7ac",
   "metadata": {},
   "source": [
    "# Q5 adv and dis adv"
   ]
  },
  {
   "cell_type": "markdown",
   "id": "5a4b3144-ed79-4c67-94ed-47b78bcd431c",
   "metadata": {},
   "source": [
    "## in above q3 answer i used close() function,because it nesessary to close that open function\n",
    "#but\n",
    "## here no need to use close() function,when we using with statement"
   ]
  },
  {
   "cell_type": "code",
   "execution_count": 26,
   "id": "8d22322f-0f75-42e2-bfe9-c43354ff31ac",
   "metadata": {},
   "outputs": [
    {
     "name": "stdout",
     "output_type": "stream",
     "text": [
      "a dharathi mere maa hai,mai kisi bhi kimat per dushman ke hawale nahi karung,chahe mere jaan be na chala jaaye\n"
     ]
    }
   ],
   "source": [
    "with open(\"text.txt\",\"r\")as avi:   \n",
    "    print(avi.read())"
   ]
  },
  {
   "cell_type": "code",
   "execution_count": null,
   "id": "236cedc7-08a9-4649-9bdc-f6a8310f81e3",
   "metadata": {},
   "outputs": [],
   "source": []
  },
  {
   "cell_type": "code",
   "execution_count": 29,
   "id": "cab0044c-ecab-4d00-baec-fe39b8413bba",
   "metadata": {},
   "outputs": [
    {
     "name": "stdout",
     "output_type": "stream",
     "text": [
      "example of write function\n"
     ]
    }
   ],
   "source": [
    "## using write() function\n",
    "\n",
    "\n",
    "f = open(\"write.txt\", \"w\")\n",
    "f.write(\"example of write function\")\n",
    "f.close()\n",
    "\n",
    "f = open(\"write.txt\", \"r\")\n",
    "print(f.read())\n"
   ]
  },
  {
   "cell_type": "code",
   "execution_count": 30,
   "id": "12c4261b-9803-490b-947a-0ba6729d0580",
   "metadata": {},
   "outputs": [
    {
     "name": "stdout",
     "output_type": "stream",
     "text": [
      "See you soon!Over and out.\n"
     ]
    }
   ],
   "source": [
    "## Using writelines() function\n",
    "\n",
    "f = open(\"writelines.txt\", \"w\")\n",
    "f.writelines([\"See you soon!\", \"Over and out.\"])\n",
    "f.close()\n",
    "\n",
    "#open and read the file after the appending:\n",
    "f = open(\"writelines.txt\", \"r\")\n",
    "print(f.read())\n"
   ]
  },
  {
   "cell_type": "code",
   "execution_count": null,
   "id": "b8ff3a86-334c-4926-9e57-14afa0c21830",
   "metadata": {},
   "outputs": [],
   "source": []
  },
  {
   "cell_type": "code",
   "execution_count": null,
   "id": "9f50157a-7e32-4e44-93c4-119fd6063299",
   "metadata": {},
   "outputs": [],
   "source": []
  },
  {
   "cell_type": "code",
   "execution_count": null,
   "id": "0a3aea72-ad7c-4127-ab2a-f3dbff19e311",
   "metadata": {},
   "outputs": [],
   "source": []
  }
 ],
 "metadata": {
  "kernelspec": {
   "display_name": "Python 3 (ipykernel)",
   "language": "python",
   "name": "python3"
  },
  "language_info": {
   "codemirror_mode": {
    "name": "ipython",
    "version": 3
   },
   "file_extension": ".py",
   "mimetype": "text/x-python",
   "name": "python",
   "nbconvert_exporter": "python",
   "pygments_lexer": "ipython3",
   "version": "3.10.8"
  }
 },
 "nbformat": 4,
 "nbformat_minor": 5
}
